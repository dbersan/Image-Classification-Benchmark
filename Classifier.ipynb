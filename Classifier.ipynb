{
 "cells": [
  {
   "cell_type": "code",
   "execution_count": 17,
   "metadata": {},
   "outputs": [],
   "source": [
    "# Imports\n",
    "\n",
    "import tensorflow as tf\n",
    "import cv2\n",
    "import os\n",
    "from tensorflow.keras.layers import Input, Dense, Flatten\n",
    "from tensorflow.keras.models import Model\n",
    "from glob import glob\n",
    "from random import shuffle\n",
    "import numpy as np"
   ]
  },
  {
   "cell_type": "code",
   "execution_count": 7,
   "metadata": {},
   "outputs": [
    {
     "name": "stderr",
     "output_type": "stream",
     "text": [
      "/home/dhiego/anaconda3/envs/tf-gpu/lib/python3.7/site-packages/tensorflow/python/client/session.py:1751: UserWarning: An interactive session is already active. This can cause out-of-memory errors in some cases. You must explicitly call `InteractiveSession.close()` to release resources held by the other session(s).\n",
      "  warnings.warn('An interactive session is already active. This can '\n"
     ]
    }
   ],
   "source": [
    "# Fix to tensorflow bug using CUDA  \n",
    "from tensorflow.compat.v1 import ConfigProto\n",
    "from tensorflow.compat.v1 import InteractiveSession\n",
    "\n",
    "config = ConfigProto()\n",
    "config.gpu_options.allow_growth = True\n",
    "session = InteractiveSession(config=config)\n",
    "\n",
    "# source: https://github.com/tensorflow/tensorflow/issues/24828#issuecomment-464910864"
   ]
  },
  {
   "cell_type": "code",
   "execution_count": 8,
   "metadata": {},
   "outputs": [],
   "source": [
    "DATADIR = \"Dataset/\"\n",
    "NO_CLASS_LABEL='noclass'\n",
    "IMG_SIZE = 150\n",
    "IMG_CHANNELS=3\n",
    "TRAIN_TEST_RATIO = 0.2"
   ]
  },
  {
   "cell_type": "code",
   "execution_count": 9,
   "metadata": {},
   "outputs": [],
   "source": [
    "# List image addresses\n",
    "\n",
    "labels = glob(DATADIR+'*/')\n",
    "labels_str = [x.split('/')[-2] for x in labels]\n",
    "\n",
    "# labels.insert(0, labels.pop(np.argmax([x.find(NO_CLASS_LABEL) for x in labels]))) # Push 'noclass' to the beginning\n",
    "\n",
    "label_count = len(labels)\n",
    "addrs = []\n",
    "\n",
    "for (index, path) in enumerate(labels):\n",
    "    img_addrs = glob(path+\"*\")\n",
    "    for img_addr in img_addrs:\n",
    "        addrs.append((img_addr, index))\n",
    "        \n",
    "shuffle(addrs)\n",
    "\n",
    "division = int(len(addrs) * TRAIN_TEST_RATIO)\n",
    "train_addrs = addrs[division:]\n",
    "valid_addrs = addrs[0:division]"
   ]
  },
  {
   "cell_type": "code",
   "execution_count": 10,
   "metadata": {
    "scrolled": true
   },
   "outputs": [
    {
     "data": {
      "text/plain": [
       "['bird', 'noclass', 'bottle', 'lion']"
      ]
     },
     "execution_count": 10,
     "metadata": {},
     "output_type": "execute_result"
    }
   ],
   "source": [
    "labels_str"
   ]
  },
  {
   "cell_type": "code",
   "execution_count": 11,
   "metadata": {},
   "outputs": [],
   "source": [
    "# Read dataset into memory\n",
    "x_train = np.zeros( (len(train_addrs), IMG_SIZE, IMG_SIZE, IMG_CHANNELS), dtype=np.int ) # Keras input: (img_height, img_width, img_depth)\n",
    "y_train_list = np.zeros( len(train_addrs), dtype=np.int )\n",
    "\n",
    "x_valid = np.zeros( (len(valid_addrs), IMG_SIZE, IMG_SIZE, IMG_CHANNELS), dtype=np.int )\n",
    "y_valid_list = np.zeros( len(valid_addrs), dtype=np.int )\n",
    "\n",
    "# Train data\n",
    "for i in range(len(train_addrs)):\n",
    "    addr = train_addrs[i][0]\n",
    "    label = train_addrs[i][1]\n",
    "    img = cv2.imread(addr)\n",
    "    height, width, c = img.shape\n",
    "    start_col = int(max(width/2-height/2, 0))\n",
    "    end_col = int(min(start_col+height, width))\n",
    "    img = img[:, start_col:end_col, ... ]\n",
    "    img = cv2.resize(img, (IMG_SIZE, IMG_SIZE), interpolation=cv2.INTER_CUBIC )\n",
    "    img = cv2.cvtColor(img, cv2.COLOR_BGR2RGB)\n",
    "    \n",
    "    x_train[i, ...] = img\n",
    "    y_train_list[i] = label\n",
    "    \n",
    "# Validation data\n",
    "for i in range(len(valid_addrs)):    \n",
    "    addr = valid_addrs[i][0]\n",
    "    label = valid_addrs[i][1]\n",
    "    img = cv2.imread(addr)\n",
    "    img = cv2.resize(img, (IMG_SIZE, IMG_SIZE), interpolation=cv2.INTER_CUBIC )\n",
    "    img = cv2.cvtColor(img, cv2.COLOR_BGR2RGB)\n",
    "    \n",
    "    x_valid[i, ...] = img\n",
    "    y_valid_list[i] = label"
   ]
  },
  {
   "cell_type": "code",
   "execution_count": 12,
   "metadata": {},
   "outputs": [],
   "source": [
    "# One hot encode labels\n",
    "y_train = np.zeros((y_train_list.shape[0],label_count),dtype=np.float)\n",
    "y_valid = np.zeros((y_valid_list.shape[0],label_count),dtype=np.float)\n",
    "\n",
    "y_train[np.arange(y_train.shape[0]), y_train_list] = 1.0\n",
    "y_valid[np.arange(y_valid.shape[0]), y_valid_list] = 1.0"
   ]
  },
  {
   "cell_type": "code",
   "execution_count": 13,
   "metadata": {},
   "outputs": [],
   "source": [
    "# Find class weights\n",
    "class_weight = {x:0 for x in range(len(labels_str))}\n",
    "for i in range(len(y_train)):\n",
    "    class_weight[np.argmax(y_train[i])]+=1\n",
    "\n",
    "weights0 = class_weight[0]*1.0    \n",
    "for k,v in class_weight.items():\n",
    "    class_weight[k]/=weights0"
   ]
  },
  {
   "cell_type": "code",
   "execution_count": 14,
   "metadata": {},
   "outputs": [
    {
     "data": {
      "text/plain": [
       "{0: 1.0, 1: 1.7873303167420815, 2: 1.2126696832579185, 3: 1.1312217194570136}"
      ]
     },
     "execution_count": 14,
     "metadata": {},
     "output_type": "execute_result"
    }
   ],
   "source": [
    "class_weight"
   ]
  },
  {
   "cell_type": "code",
   "execution_count": 10,
   "metadata": {},
   "outputs": [
    {
     "name": "stdout",
     "output_type": "stream",
     "text": [
      "Model: \"model\"\n",
      "_________________________________________________________________\n",
      "Layer (type)                 Output Shape              Param #   \n",
      "=================================================================\n",
      "input_layer (InputLayer)     [(None, 150, 150, 3)]     0         \n",
      "_________________________________________________________________\n",
      "convo1 (Conv2D)              (None, 146, 146, 64)      4864      \n",
      "_________________________________________________________________\n",
      "max_pooling2d (MaxPooling2D) (None, 73, 73, 64)        0         \n",
      "_________________________________________________________________\n",
      "convo2 (Conv2D)              (None, 71, 71, 128)       73856     \n",
      "_________________________________________________________________\n",
      "max_pooling2d_1 (MaxPooling2 (None, 35, 35, 128)       0         \n",
      "_________________________________________________________________\n",
      "conv2d (Conv2D)              (None, 35, 35, 128)       16512     \n",
      "_________________________________________________________________\n",
      "convo3 (Conv2D)              (None, 33, 33, 256)       295168    \n",
      "_________________________________________________________________\n",
      "max_pooling2d_2 (MaxPooling2 (None, 16, 16, 256)       0         \n",
      "_________________________________________________________________\n",
      "conv2d_1 (Conv2D)            (None, 16, 16, 128)       32896     \n",
      "_________________________________________________________________\n",
      "convo4 (Conv2D)              (None, 14, 14, 256)       295168    \n",
      "_________________________________________________________________\n",
      "conv2d_2 (Conv2D)            (None, 14, 14, 256)       65792     \n",
      "_________________________________________________________________\n",
      "convo5 (Conv2D)              (None, 12, 12, 512)       1180160   \n",
      "_________________________________________________________________\n",
      "convo6 (Conv2D)              (None, 10, 10, 512)       2359808   \n",
      "_________________________________________________________________\n",
      "flatten (Flatten)            (None, 51200)             0         \n",
      "_________________________________________________________________\n",
      "dense (Dense)                (None, 1024)              52429824  \n",
      "_________________________________________________________________\n",
      "dropout (Dropout)            (None, 1024)              0         \n",
      "_________________________________________________________________\n",
      "output_layer (Dense)         (None, 4)                 4100      \n",
      "=================================================================\n",
      "Total params: 56,758,148\n",
      "Trainable params: 56,758,148\n",
      "Non-trainable params: 0\n",
      "_________________________________________________________________\n"
     ]
    }
   ],
   "source": [
    "# Define model\n",
    "\n",
    "from tensorflow.keras.models import Model\n",
    "from tensorflow.keras import optimizers\n",
    "from tensorflow.keras.layers import Conv2D, MaxPooling2D, Input, Flatten, Dense, Dropout, Concatenate\n",
    "from tensorflow.keras.losses import *\n",
    "\n",
    "rmsprop = optimizers.RMSprop(learning_rate=0.0005, rho=0.9, momentum=0.00)\n",
    "\n",
    "in_img = Input(shape=(IMG_SIZE, IMG_SIZE, IMG_CHANNELS), name='input_layer', dtype=tf.float32)\n",
    "x = Conv2D(64, kernel_size=5, activation='relu', name='convo1')(in_img)\n",
    "x = MaxPooling2D(pool_size=(2, 2))(x)\n",
    "\n",
    "x = Conv2D(128, kernel_size=3, activation='relu', name='convo2')(x)\n",
    "x = MaxPooling2D(pool_size=(2, 2))(x)\n",
    "\n",
    "x = Conv2D(128, kernel_size=1, activation='relu', padding=\"same\")(x)\n",
    "x = Conv2D(256, kernel_size=3, activation='relu', name='convo3')(x)\n",
    "x = MaxPooling2D(pool_size=(2, 2))(x)\n",
    "\n",
    "x = Conv2D(128, kernel_size=1, activation='relu', padding=\"same\")(x)\n",
    "x = Conv2D(256, kernel_size=3, activation='relu', name='convo4')(x)\n",
    "\n",
    "x = Conv2D(256, kernel_size=1, activation='relu', padding=\"same\")(x)\n",
    "x = Conv2D(512, kernel_size=3, activation='relu', name='convo5')(x)\n",
    "\n",
    "x = Conv2D(512, kernel_size=3, activation='relu', name='convo6')(x)\n",
    "\n",
    "x = Flatten()(x)\n",
    "x = Dense(256, activation='relu')(x)\n",
    "x = Dense(256, activation='relu')(x)\n",
    "x = Dropout(0.2)(x)\n",
    "\n",
    "output = Dense(label_count, activation='softmax', name='output_layer', dtype=tf.float32)(x)\n",
    "\n",
    "model = Model(inputs=in_img, outputs=output)\n",
    "model.compile(optimizer=rmsprop, \n",
    "              loss=CategoricalCrossentropy(),\n",
    "              metrics=['accuracy'])\n",
    "\n",
    "model.summary()"
   ]
  },
  {
   "cell_type": "code",
   "execution_count": 11,
   "metadata": {
    "scrolled": true
   },
   "outputs": [],
   "source": [
    "# Load weights\n",
    "#model.load_weights('pre-trained.h5')\n",
    "model.load_weights('trained.h5')"
   ]
  },
  {
   "cell_type": "code",
   "execution_count": 12,
   "metadata": {},
   "outputs": [],
   "source": [
    "# Generators \n",
    "\n",
    "from tensorflow.keras.preprocessing.image import ImageDataGenerator\n",
    "\n",
    "datagen = ImageDataGenerator(\n",
    "    rescale=1.0/255.0,\n",
    "    rotation_range=15,\n",
    "    width_shift_range=0.05,\n",
    "    height_shift_range=0.05,\n",
    "    horizontal_flip=True)\n",
    "\n",
    "valid_datagen = ImageDataGenerator(\n",
    "    rescale=1.0/255.0,)"
   ]
  },
  {
   "cell_type": "code",
   "execution_count": 13,
   "metadata": {},
   "outputs": [
    {
     "data": {
      "image/png": "[encoded data removed]",
      "text/plain": [
       "<Figure size 432x288 with 1 Axes>"
      ]
     },
     "metadata": {
      "needs_background": "light"
     },
     "output_type": "display_data"
    },
    {
     "name": "stdout",
     "output_type": "stream",
     "text": [
      "[0. 0. 1. 0.]\n"
     ]
    }
   ],
   "source": [
    "# Test generators\n",
    "\n",
    "import matplotlib.pyplot as plt\n",
    "\n",
    "index = 3\n",
    "\n",
    "gen = datagen.flow(x_train, y_train, batch_size=20)\n",
    "x,y = gen.next()\n",
    "plt.imshow(x[index])\n",
    "plt.show()\n",
    "print(y[index])"
   ]
  },
  {
   "cell_type": "code",
   "execution_count": 19,
   "metadata": {},
   "outputs": [
    {
     "name": "stdout",
     "output_type": "stream",
     "text": [
      "Epoch 1/5\n",
      "71/70 [==============================] - 10s 144ms/step - loss: 0.4140 - accuracy: 0.9004 - val_loss: 0.5734 - val_accuracy: 0.9152\n",
      "Epoch 2/5\n",
      "71/70 [==============================] - 10s 144ms/step - loss: 0.4021 - accuracy: 0.9092 - val_loss: 1.2413 - val_accuracy: 0.8693\n",
      "Epoch 3/5\n",
      "71/70 [==============================] - 10s 143ms/step - loss: 0.6323 - accuracy: 0.8836 - val_loss: 0.6197 - val_accuracy: 0.8410\n",
      "Epoch 4/5\n",
      "71/70 [==============================] - 10s 143ms/step - loss: 0.3903 - accuracy: 0.9242 - val_loss: 0.9169 - val_accuracy: 0.8975\n",
      "Epoch 5/5\n",
      "71/70 [==============================] - 10s 143ms/step - loss: 0.4922 - accuracy: 0.8942 - val_loss: 0.5771 - val_accuracy: 0.8869\n"
     ]
    },
    {
     "data": {
      "text/plain": [
       "<tensorflow.python.keras.callbacks.History at 0x7f098b496090>"
      ]
     },
     "execution_count": 19,
     "metadata": {},
     "output_type": "execute_result"
    }
   ],
   "source": [
    "epochs = 5\n",
    "batch_size = 16\n",
    "\n",
    "model.fit_generator(datagen.flow(x_train, y_train, batch_size=batch_size),\n",
    "                    steps_per_epoch=len(x_train) / batch_size, epochs=epochs, \n",
    "                    validation_data=valid_datagen.flow(x_valid, y_valid, batch_size=batch_size),\n",
    "                   class_weight = class_weight)"
   ]
  },
  {
   "cell_type": "code",
   "execution_count": 20,
   "metadata": {},
   "outputs": [
    {
     "name": "stdout",
     "output_type": "stream",
     "text": [
      "9/9 [==============================] - 1s 58ms/step - loss: 531.4318 - accuracy: 0.5265\n",
      "531.4317626953125\n",
      "0.5265017747879028\n"
     ]
    }
   ],
   "source": [
    "# Evaluate model\n",
    "\n",
    "val_loss, val_acc = model.evaluate(x_valid, y_valid);\n",
    "print(val_loss)\n",
    "print(val_acc)"
   ]
  },
  {
   "cell_type": "code",
   "execution_count": 21,
   "metadata": {},
   "outputs": [],
   "source": [
    "# Save weights hdf5 format\n",
    "\n",
    "#model.save_weights('pre-trained.h5')\n",
    "model.save_weights('trained.h5')"
   ]
  },
  {
   "cell_type": "code",
   "execution_count": 22,
   "metadata": {},
   "outputs": [
    {
     "name": "stdout",
     "output_type": "stream",
     "text": [
      "WARNING:tensorflow:From /home/dhiego/anaconda3/envs/tf-gpu/lib/python3.7/site-packages/tensorflow/python/ops/resource_variable_ops.py:1817: calling BaseResourceVariable.__init__ (from tensorflow.python.ops.resource_variable_ops) with constraint is deprecated and will be removed in a future version.\n",
      "Instructions for updating:\n",
      "If using Keras pass *_constraint arguments to layers.\n",
      "INFO:tensorflow:Assets written to: model/assets\n"
     ]
    }
   ],
   "source": [
    "# Save model in SavedModel format (tensorflow 2.0)\n",
    "\n",
    "export_path = 'model'\n",
    "\n",
    "tf.saved_model.save(model, export_path)"
   ]
  },
  {
   "cell_type": "code",
   "execution_count": null,
   "metadata": {},
   "outputs": [],
   "source": [
    "# Load model and test signature def (Tensorflow 2.0)\n",
    "\n",
    "import numpy as np\n",
    "import matplotlib.pyplot as plt\n",
    "\n",
    "# Load model\n",
    "loaded_model = tf.keras.models.load_model('model') \n",
    "\n",
    "# Predict function \n",
    "predict = loaded_model.signatures[\"serving_default\"]"
   ]
  },
  {
   "cell_type": "code",
   "execution_count": null,
   "metadata": {},
   "outputs": [],
   "source": [
    "# Predict using loaded model\n",
    "\n",
    "index = 12\n",
    "\n",
    "# Define input image\n",
    "img = x_valid[index:index+1]/255.0\n",
    "\n",
    "# Predict\n",
    "prediction = predict(tf.constant(img, dtype=tf.float32))\n",
    "\n",
    "# Show results\n",
    "plt.imshow(x_valid[index])  # prints the image\n",
    "print(prediction['graph_output'][0])  # prints the class number\n",
    "print(labels_str[np.argmax(prediction['graph_output'][0])])"
   ]
  },
  {
   "cell_type": "code",
   "execution_count": null,
   "metadata": {},
   "outputs": [],
   "source": []
  }
 ],
 "metadata": {
  "kernelspec": {
   "display_name": "Python 3",
   "language": "python",
   "name": "python3"
  },
  "language_info": {
   "codemirror_mode": {
    "name": "ipython",
    "version": 3
   },
   "file_extension": ".py",
   "mimetype": "text/x-python",
   "name": "python",
   "nbconvert_exporter": "python",
   "pygments_lexer": "ipython3",
   "version": "3.7.7"
  }
 },
 "nbformat": 4,
 "nbformat_minor": 4
}
